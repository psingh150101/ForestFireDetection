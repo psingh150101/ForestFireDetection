{
 "cells": [
  {
   "cell_type": "code",
   "execution_count": 10,
   "id": "33989ef8",
   "metadata": {},
   "outputs": [],
   "source": [
    "import tensorflow as tf\n",
    "import keras_preprocessing\n",
    "from keras_preprocessing import image\n",
    "from keras_preprocessing.image import ImageDataGenerator\n",
    "import shutil\n"
   ]
  },
  {
   "cell_type": "code",
   "execution_count": 11,
   "id": "2d87e084",
   "metadata": {},
   "outputs": [
    {
     "name": "stdout",
     "output_type": "stream",
     "text": [
      "Found 980 images belonging to 2 classes.\n",
      "Found 239 images belonging to 2 classes.\n"
     ]
    }
   ],
   "source": [
    "TRAINING_DIR = \"Datasets 1-2\\Training\"\n",
    "\n",
    "training_datagen = ImageDataGenerator(rescale = 1./255,\n",
    "                                      horizontal_flip=True,\n",
    "\t\t\t\t\t\t\t\t\t  rotation_range=30,\n",
    "\t\t\t\t\t\t\t\t\t  height_shift_range=0.2,\n",
    "                                      fill_mode='nearest')\n",
    "\t\t\t\t\t\t\t\t\t\n",
    "VALIDATION_DIR = \"Datasets 1-2\\Validation\"\n",
    "validation_datagen = ImageDataGenerator(rescale = 1./255)\n",
    "\n",
    "train_generator = training_datagen.flow_from_directory(\n",
    "\tTRAINING_DIR,\n",
    "\ttarget_size=(224,224),\n",
    "\tclass_mode='categorical',\n",
    "  batch_size = 64\n",
    ")\n",
    "#print(train_generator)\n",
    "validation_generator = validation_datagen.flow_from_directory(\n",
    "\tVALIDATION_DIR,\n",
    "\ttarget_size=(224,224),\n",
    "\tclass_mode='categorical',\n",
    "  batch_size= 16\n",
    ")"
   ]
  },
  {
   "cell_type": "code",
   "execution_count": 12,
   "id": "960116ea",
   "metadata": {},
   "outputs": [
    {
     "name": "stdout",
     "output_type": "stream",
     "text": [
      "Model: \"sequential_1\"\n",
      "_________________________________________________________________\n",
      " Layer (type)                Output Shape              Param #   \n",
      "=================================================================\n",
      " conv2d_3 (Conv2D)           (None, 54, 54, 96)        34944     \n",
      "                                                                 \n",
      " max_pooling2d_3 (MaxPooling  (None, 26, 26, 96)       0         \n",
      " 2D)                                                             \n",
      "                                                                 \n",
      " conv2d_4 (Conv2D)           (None, 22, 22, 256)       614656    \n",
      "                                                                 \n",
      " max_pooling2d_4 (MaxPooling  (None, 10, 10, 256)      0         \n",
      " 2D)                                                             \n",
      "                                                                 \n",
      " conv2d_5 (Conv2D)           (None, 6, 6, 384)         2457984   \n",
      "                                                                 \n",
      " max_pooling2d_5 (MaxPooling  (None, 2, 2, 384)        0         \n",
      " 2D)                                                             \n",
      "                                                                 \n",
      " flatten_1 (Flatten)         (None, 1536)              0         \n",
      "                                                                 \n",
      " dropout_3 (Dropout)         (None, 1536)              0         \n",
      "                                                                 \n",
      " dense_3 (Dense)             (None, 2048)              3147776   \n",
      "                                                                 \n",
      " dropout_4 (Dropout)         (None, 2048)              0         \n",
      "                                                                 \n",
      " dense_4 (Dense)             (None, 1024)              2098176   \n",
      "                                                                 \n",
      " dropout_5 (Dropout)         (None, 1024)              0         \n",
      "                                                                 \n",
      " dense_5 (Dense)             (None, 2)                 2050      \n",
      "                                                                 \n",
      "=================================================================\n",
      "Total params: 8,355,586\n",
      "Trainable params: 8,355,586\n",
      "Non-trainable params: 0\n",
      "_________________________________________________________________\n"
     ]
    }
   ],
   "source": [
    "from tensorflow.keras.optimizers import RMSprop,Adam\n",
    "model = tf.keras.models.Sequential([\n",
    "          tf.keras.layers.Conv2D(96, (11,11), strides=(4,4), activation='relu', input_shape=(224, 224, 3)),\n",
    "          tf.keras.layers.MaxPooling2D(pool_size = (3,3), strides=(2,2)),\n",
    "          tf.keras.layers.Conv2D(256, (5,5), activation='relu'),\n",
    "          tf.keras.layers.MaxPooling2D(pool_size = (3,3), strides=(2,2)),\n",
    "          tf.keras.layers.Conv2D(384, (5,5), activation='relu'),\n",
    "          tf.keras.layers.MaxPooling2D(pool_size = (3,3), strides=(2,2)),\n",
    "          tf.keras.layers.Flatten(),\n",
    "          tf.keras.layers.Dropout(0.2),\n",
    "          tf.keras.layers.Dense(2048, activation='relu'),\n",
    "          tf.keras.layers.Dropout(0.25),\n",
    "          tf.keras.layers.Dense(1024, activation='relu'),\n",
    "          tf.keras.layers.Dropout(0.2),\n",
    "          tf.keras.layers.Dense(2, activation='softmax')\n",
    "])\n",
    "model.compile(loss='categorical_crossentropy',\n",
    "              optimizer=Adam(learning_rate=0.0001),\n",
    "              metrics=['acc'])\n",
    "model.summary()"
   ]
  },
  {
   "cell_type": "code",
   "execution_count": 6,
   "id": "32c84c7c",
   "metadata": {},
   "outputs": [
    {
     "name": "stdout",
     "output_type": "stream",
     "text": [
      "Epoch 1/55\n",
      "16/16 [==============================] - 107s 7s/step - loss: 0.5195 - acc: 0.7449 - val_loss: 0.3824 - val_acc: 0.8243\n",
      "Epoch 2/55\n",
      "16/16 [==============================] - 108s 7s/step - loss: 0.3257 - acc: 0.8694 - val_loss: 0.2365 - val_acc: 0.9163\n",
      "Epoch 3/55\n",
      "16/16 [==============================] - 95s 6s/step - loss: 0.3580 - acc: 0.8418 - val_loss: 0.3358 - val_acc: 0.8828\n",
      "Epoch 4/55\n",
      "16/16 [==============================] - 93s 6s/step - loss: 0.3061 - acc: 0.8857 - val_loss: 0.2719 - val_acc: 0.9163\n",
      "Epoch 5/55\n",
      "16/16 [==============================] - 88s 6s/step - loss: 0.2597 - acc: 0.9020 - val_loss: 0.2527 - val_acc: 0.9121\n",
      "Epoch 6/55\n",
      "16/16 [==============================] - 88s 5s/step - loss: 0.2608 - acc: 0.8898 - val_loss: 0.2140 - val_acc: 0.9289\n",
      "Epoch 7/55\n",
      "16/16 [==============================] - 88s 6s/step - loss: 0.2152 - acc: 0.9245 - val_loss: 0.2326 - val_acc: 0.9247\n",
      "Epoch 8/55\n",
      "16/16 [==============================] - 88s 5s/step - loss: 0.2096 - acc: 0.9245 - val_loss: 0.1949 - val_acc: 0.9372\n",
      "Epoch 9/55\n",
      "16/16 [==============================] - 88s 6s/step - loss: 0.2050 - acc: 0.9286 - val_loss: 0.1933 - val_acc: 0.9331\n",
      "Epoch 10/55\n",
      "16/16 [==============================] - 88s 5s/step - loss: 0.2171 - acc: 0.9112 - val_loss: 0.2318 - val_acc: 0.8954\n",
      "Epoch 11/55\n",
      "16/16 [==============================] - 87s 5s/step - loss: 0.2152 - acc: 0.9327 - val_loss: 0.1899 - val_acc: 0.9372\n",
      "Epoch 12/55\n",
      "16/16 [==============================] - 89s 6s/step - loss: 0.1901 - acc: 0.9327 - val_loss: 0.1905 - val_acc: 0.9456\n",
      "Epoch 13/55\n",
      "16/16 [==============================] - 87s 5s/step - loss: 0.1690 - acc: 0.9439 - val_loss: 0.1702 - val_acc: 0.9372\n",
      "Epoch 14/55\n",
      "16/16 [==============================] - 89s 6s/step - loss: 0.1715 - acc: 0.9367 - val_loss: 0.1741 - val_acc: 0.9372\n",
      "Epoch 15/55\n",
      "16/16 [==============================] - 91s 6s/step - loss: 0.1604 - acc: 0.9418 - val_loss: 0.1858 - val_acc: 0.9331\n",
      "Epoch 16/55\n",
      "16/16 [==============================] - 88s 5s/step - loss: 0.1835 - acc: 0.9357 - val_loss: 0.1468 - val_acc: 0.9456\n",
      "Epoch 17/55\n",
      "16/16 [==============================] - 88s 5s/step - loss: 0.1635 - acc: 0.9327 - val_loss: 0.1779 - val_acc: 0.9456\n",
      "Epoch 18/55\n",
      "16/16 [==============================] - 88s 5s/step - loss: 0.1553 - acc: 0.9429 - val_loss: 0.1645 - val_acc: 0.9540\n",
      "Epoch 19/55\n",
      "16/16 [==============================] - 88s 5s/step - loss: 0.1515 - acc: 0.9449 - val_loss: 0.1544 - val_acc: 0.9498\n",
      "Epoch 20/55\n",
      "16/16 [==============================] - 87s 5s/step - loss: 0.1442 - acc: 0.9469 - val_loss: 0.1516 - val_acc: 0.9582\n",
      "Epoch 21/55\n",
      "16/16 [==============================] - 87s 5s/step - loss: 0.1316 - acc: 0.9520 - val_loss: 0.1706 - val_acc: 0.9456\n",
      "Epoch 22/55\n",
      "16/16 [==============================] - 94s 6s/step - loss: 0.1368 - acc: 0.9500 - val_loss: 0.1238 - val_acc: 0.9498\n",
      "Epoch 23/55\n",
      "16/16 [==============================] - 89s 5s/step - loss: 0.1216 - acc: 0.9622 - val_loss: 0.1452 - val_acc: 0.9498\n",
      "Epoch 24/55\n",
      "16/16 [==============================] - 89s 6s/step - loss: 0.1185 - acc: 0.9582 - val_loss: 0.1306 - val_acc: 0.9582\n",
      "Epoch 25/55\n",
      "16/16 [==============================] - 88s 5s/step - loss: 0.1337 - acc: 0.9510 - val_loss: 0.1391 - val_acc: 0.9498\n",
      "Epoch 26/55\n",
      "16/16 [==============================] - 88s 5s/step - loss: 0.1293 - acc: 0.9531 - val_loss: 0.1434 - val_acc: 0.9582\n",
      "Epoch 27/55\n",
      "16/16 [==============================] - 87s 5s/step - loss: 0.1341 - acc: 0.9531 - val_loss: 0.1914 - val_acc: 0.9331\n",
      "Epoch 28/55\n",
      "16/16 [==============================] - 87s 5s/step - loss: 0.1396 - acc: 0.9490 - val_loss: 0.1362 - val_acc: 0.9414\n",
      "Epoch 29/55\n",
      "16/16 [==============================] - 87s 5s/step - loss: 0.1310 - acc: 0.9520 - val_loss: 0.1575 - val_acc: 0.9540\n",
      "Epoch 30/55\n",
      "16/16 [==============================] - 87s 5s/step - loss: 0.1201 - acc: 0.9602 - val_loss: 0.2001 - val_acc: 0.9205\n",
      "Epoch 31/55\n",
      "16/16 [==============================] - 86s 5s/step - loss: 0.1341 - acc: 0.9520 - val_loss: 0.1530 - val_acc: 0.9623\n",
      "Epoch 32/55\n",
      "16/16 [==============================] - 87s 5s/step - loss: 0.1157 - acc: 0.9551 - val_loss: 0.1348 - val_acc: 0.9456\n",
      "Epoch 33/55\n",
      "16/16 [==============================] - 87s 5s/step - loss: 0.1250 - acc: 0.9602 - val_loss: 0.1723 - val_acc: 0.9498\n",
      "Epoch 34/55\n",
      "16/16 [==============================] - 86s 5s/step - loss: 0.1143 - acc: 0.9653 - val_loss: 0.1324 - val_acc: 0.9456\n",
      "Epoch 35/55\n",
      "16/16 [==============================] - 90s 6s/step - loss: 0.1035 - acc: 0.9622 - val_loss: 0.1516 - val_acc: 0.9498\n",
      "Epoch 36/55\n",
      "16/16 [==============================] - 90s 6s/step - loss: 0.1394 - acc: 0.9541 - val_loss: 0.1321 - val_acc: 0.9540\n",
      "Epoch 37/55\n",
      "16/16 [==============================] - 89s 6s/step - loss: 0.1146 - acc: 0.9633 - val_loss: 0.1360 - val_acc: 0.9582\n",
      "Epoch 38/55\n",
      "16/16 [==============================] - 90s 6s/step - loss: 0.0885 - acc: 0.9704 - val_loss: 0.1409 - val_acc: 0.9540\n",
      "Epoch 39/55\n",
      "16/16 [==============================] - 90s 5s/step - loss: 0.1040 - acc: 0.9643 - val_loss: 0.1792 - val_acc: 0.9456\n",
      "Epoch 40/55\n",
      "16/16 [==============================] - 96s 6s/step - loss: 0.1115 - acc: 0.9592 - val_loss: 0.1559 - val_acc: 0.9623\n",
      "Epoch 41/55\n",
      "16/16 [==============================] - 87s 5s/step - loss: 0.1236 - acc: 0.9592 - val_loss: 0.1397 - val_acc: 0.9540\n",
      "Epoch 42/55\n",
      "16/16 [==============================] - 89s 6s/step - loss: 0.1062 - acc: 0.9673 - val_loss: 0.1353 - val_acc: 0.9456\n",
      "Epoch 43/55\n",
      "16/16 [==============================] - 93s 6s/step - loss: 0.1100 - acc: 0.9602 - val_loss: 0.1381 - val_acc: 0.9456\n",
      "Epoch 44/55\n",
      "16/16 [==============================] - 108s 7s/step - loss: 0.0938 - acc: 0.9673 - val_loss: 0.1783 - val_acc: 0.9540\n",
      "Epoch 45/55\n",
      "16/16 [==============================] - 88s 6s/step - loss: 0.1169 - acc: 0.9592 - val_loss: 0.1572 - val_acc: 0.9456\n",
      "Epoch 46/55\n",
      "16/16 [==============================] - 94s 6s/step - loss: 0.1074 - acc: 0.9622 - val_loss: 0.1380 - val_acc: 0.9540\n",
      "Epoch 47/55\n",
      "16/16 [==============================] - 103s 7s/step - loss: 0.0981 - acc: 0.9673 - val_loss: 0.1388 - val_acc: 0.9540\n",
      "Epoch 48/55\n",
      "16/16 [==============================] - 113s 7s/step - loss: 0.0881 - acc: 0.9633 - val_loss: 0.1375 - val_acc: 0.9623\n",
      "Epoch 49/55\n",
      "16/16 [==============================] - 110s 7s/step - loss: 0.0934 - acc: 0.9724 - val_loss: 0.1593 - val_acc: 0.9582\n",
      "Epoch 50/55\n",
      "16/16 [==============================] - 94s 6s/step - loss: 0.0870 - acc: 0.9663 - val_loss: 0.1476 - val_acc: 0.9540\n",
      "Epoch 51/55\n",
      "16/16 [==============================] - 89s 6s/step - loss: 0.1061 - acc: 0.9643 - val_loss: 0.1587 - val_acc: 0.9623\n",
      "Epoch 52/55\n",
      "16/16 [==============================] - 96s 6s/step - loss: 0.0933 - acc: 0.9673 - val_loss: 0.1350 - val_acc: 0.9582\n",
      "Epoch 53/55\n",
      "16/16 [==============================] - 95s 6s/step - loss: 0.0838 - acc: 0.9684 - val_loss: 0.1941 - val_acc: 0.9456\n",
      "Epoch 54/55\n",
      "16/16 [==============================] - 96s 6s/step - loss: 0.0947 - acc: 0.9633 - val_loss: 0.1669 - val_acc: 0.9498\n",
      "Epoch 55/55\n",
      "16/16 [==============================] - 98s 6s/step - loss: 0.0926 - acc: 0.9684 - val_loss: 0.2761 - val_acc: 0.9205\n"
     ]
    }
   ],
   "source": [
    "history = model.fit(\n",
    "    train_generator,\n",
    "    steps_per_epoch = 16,\n",
    "    epochs = 55,\n",
    "    validation_data = validation_generator,\n",
    "    validation_steps = 15\n",
    "    #callbacks=[callbacks]\n",
    ")"
   ]
  },
  {
   "cell_type": "code",
   "execution_count": 7,
   "id": "5bb4e429",
   "metadata": {},
   "outputs": [],
   "source": [
    "model.save('final.h5')"
   ]
  },
  {
   "cell_type": "code",
   "execution_count": 13,
   "id": "0c7844ee",
   "metadata": {},
   "outputs": [],
   "source": [
    "model=tf.keras.models.load_model('firemodelfinal.h5')\n",
    "history=model"
   ]
  },
  {
   "cell_type": "code",
   "execution_count": 7,
   "id": "e861c944",
   "metadata": {},
   "outputs": [],
   "source": [
    "model=tf.keras.models.load_model('firemodelfinalnew.h5')\n",
    "history=model"
   ]
  },
  {
   "cell_type": "code",
   "execution_count": 8,
   "id": "d670b8bd",
   "metadata": {},
   "outputs": [
    {
     "data": {
      "image/png": "[encoded data removed]",
      "text/plain": [
       "<Figure size 432x288 with 1 Axes>"
      ]
     },
     "metadata": {
      "needs_background": "light"
     },
     "output_type": "display_data"
    },
    {
     "data": {
      "text/plain": [
       "<Figure size 432x288 with 0 Axes>"
      ]
     },
     "metadata": {},
     "output_type": "display_data"
    },
    {
     "data": {
      "image/png": "[encoded data removed]",
      "text/plain": [
       "<Figure size 432x288 with 1 Axes>"
      ]
     },
     "metadata": {
      "needs_background": "light"
     },
     "output_type": "display_data"
    },
    {
     "data": {
      "text/plain": [
       "<Figure size 432x288 with 0 Axes>"
      ]
     },
     "metadata": {},
     "output_type": "display_data"
    }
   ],
   "source": [
    "%matplotlib inline\n",
    "import matplotlib.pyplot as plt\n",
    "acc = history.history['acc']\n",
    "val_acc = history.history['val_acc']\n",
    "loss = history.history['loss']\n",
    "val_loss = history.history['val_loss']\n",
    "\n",
    "epochs = range(len(acc))\n",
    "\n",
    "plt.plot(epochs, acc, 'g', label='Training accuracy')\n",
    "plt.plot(epochs, val_acc, 'b', label='Validation accuracy')\n",
    "plt.title('Training and validation accuracy')\n",
    "plt.legend(loc=0)\n",
    "plt.figure()\n",
    "plt.show()\n",
    "\n",
    "plt.plot(epochs, loss, 'r', label='Training loss')\n",
    "plt.plot(epochs, val_loss, 'orange', label='Validation loss')\n",
    "plt.title('Training and validation loss')\n",
    "\n",
    "plt.legend(loc=0)\n",
    "plt.figure()\n",
    "plt.show()\n",
    "\n",
    "\n",
    "\n",
    "    \n",
    "\n",
    "    \n",
    "  \n",
    "\n"
   ]
  },
  {
   "cell_type": "code",
   "execution_count": null,
   "id": "107023f6",
   "metadata": {
    "scrolled": false
   },
   "outputs": [
    {
     "name": "stdout",
     "output_type": "stream",
     "text": [
      "no fire\n",
      "sent to psingh150101.2022@gmail.com\n",
      "no fire\n",
      "sent to psingh150101.2022@gmail.com\n",
      "no fire\n"
     ]
    }
   ],
   "source": [
    "import numpy as np\n",
    "import files\n",
    "from keras.preprocessing import image\n",
    "import cv2\n",
    "import smtplib\n",
    "import winsound\n",
    "import playsound\n",
    "import requests\n",
    " \n",
    "\n",
    "\n",
    "def send_mail_function(m):\n",
    "    recipientEmail = \"psingh150101.2022@gmail.com\"\n",
    "    recipientEmail = recipientEmail.lower()\n",
    "\n",
    "    try:\n",
    "        server = smtplib.SMTP('smtp.gmail.com', 587)\n",
    "        server.ehlo()\n",
    "        server.starttls()\n",
    "        server.login(\"psingh150101.2021@gmail.com\",'@PradhumanP@15')\n",
    "        server.sendmail('psingh150101.2021@gmail.com', recipientEmail, m)\n",
    "        print(\"sent to {}\".format(recipientEmail))\n",
    "        server.close()\n",
    "    except Exception as e:\n",
    "        print(e)\n",
    "\n",
    "\n",
    "\n",
    "\n",
    "# Opens the camera\n",
    "cap= cv2.VideoCapture(0)\n",
    "i=0\n",
    "counter=0\n",
    "while(cap.isOpened()):\n",
    "    msg=requests.get(\"https://api.thingspeak.com/channels/1708415/feeds.json?api_key=C94ZG56LMYA6F2E0&results=2\")\n",
    "    msg=msg.json()['feeds'][-1]['field1']\n",
    "    #print(\"\\nThe Message sent was: \\n\\n\"+str(msg))\n",
    "    ret, frame = cap.read()\n",
    "    img = cv2.resize(frame, (224, 224))\n",
    "    #if ret == False:\n",
    "       # break\n",
    "    #cv2.imwrite('fire'+str(i)+'.jpg',frame)\n",
    "\n",
    "    #path ='fire'+str(i)+'.jpg'\n",
    "    #img = image.load_img(path, target_size=(224, 224))\n",
    "    x = image.img_to_array(img)\n",
    "    x = np.expand_dims(x, axis=0) /255\n",
    "    classes = model.predict(x)\n",
    "    #print(np.argmax(classes[0])==0, max(classes[0]))\n",
    "    #print(classes)\n",
    "    if(classes[0][0]>classes[0][1]):\n",
    "        print('no fire')\n",
    "        if(float(msg)>25.00):\n",
    "                send_mail_function(\"Etremely High Temperatures detcted. Chances of Fire.\")\n",
    "        image_path = r'C:\\Users\\psing\\Music\\python projects\\fire detection both\\fire-detection-master\\outputimages\\no fire'+str(i)+'.jpg'\n",
    "        cv2.imwrite(image_path,frame)\n",
    "    else:\n",
    "        print('fire')\n",
    "        counter=counter+1\n",
    "        if(counter>6):\n",
    "            winsound.PlaySound('alarm.wav', winsound.SND_FILENAME)\n",
    "            if(float(msg)>25.00):\n",
    "                send_mail_function(\"Warning A Fire Accident has been reported.\")\n",
    "            else:\n",
    "                send_mail_function(\"Alert! Chance of a fire Reported.\")\n",
    "            print('sound playing'+ str(counter))\n",
    "            counter=0\n",
    "\n",
    "       \n",
    "        image_path = r'C:\\Users\\psing\\Music\\python projects\\fire detection both\\fire-detection-master\\outputimages\\fire'+str(i)+'.jpg'\n",
    "        cv2.imwrite(image_path,frame)\n",
    "    i+=1\n",
    "    cv2.imshow(\"output\", frame)\n",
    "    if cv2.waitKey(1) & 0xFF == ord('q'):\n",
    "        break  \n",
    "\n",
    "cap.release()\n",
    "cv2.destroyAllWindows()\n"
   ]
  },
  {
   "cell_type": "code",
   "execution_count": null,
   "id": "f208795c",
   "metadata": {},
   "outputs": [],
   "source": []
  },
  {
   "cell_type": "code",
   "execution_count": null,
   "id": "788b6696",
   "metadata": {},
   "outputs": [],
   "source": []
  }
 ],
 "metadata": {
  "kernelspec": {
   "display_name": "Python 3 (ipykernel)",
   "language": "python",
   "name": "python3"
  },
  "language_info": {
   "codemirror_mode": {
    "name": "ipython",
    "version": 3
   },
   "file_extension": ".py",
   "mimetype": "text/x-python",
   "name": "python",
   "nbconvert_exporter": "python",
   "pygments_lexer": "ipython3",
   "version": "3.9.7"
  }
 },
 "nbformat": 4,
 "nbformat_minor": 5
}
